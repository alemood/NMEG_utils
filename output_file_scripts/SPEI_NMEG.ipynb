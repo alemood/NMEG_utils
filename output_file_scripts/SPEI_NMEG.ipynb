{
 "cells": [
  {
   "cell_type": "markdown",
   "metadata": {
    "collapsed": false
   },
   "source": [
    "# NMEG SPEI\n",
    "\n",
    "Calculate SPEI (Standardized precipitation-evaporation index) for NMEG data and historical SPEI at the sites."
   ]
  },
  {
   "cell_type": "markdown",
   "metadata": {},
   "source": [
    "## First calculate SPEI for NMEG data period"
   ]
  },
  {
   "cell_type": "code",
   "execution_count": 1,
   "metadata": {
    "collapsed": false
   },
   "outputs": [
    {
     "name": "stderr",
     "output_type": "stream",
     "text": [
      "Loading required package: zoo\n",
      "\n",
      "Attaching package: ‘zoo’\n",
      "\n",
      "The following objects are masked from ‘package:base’:\n",
      "\n",
      "    as.Date, as.Date.numeric\n",
      "\n"
     ]
    },
    {
     "data": {
      "text/plain": [
       "           GPP_g_int RECO_g_int FC_F_g_int ET_mm_24hint_0 P_F_sum  TA_F_avg\n",
       "2007-05-04 0.9376559   1.353289  0.4156327       1.036631     0.0 19.040114\n",
       "2007-05-05 4.3097359   2.945274 -1.3644615       2.043919     0.0 11.717296\n",
       "2007-05-06 4.5503009   2.793961 -1.7563396       1.594291     0.0  8.113653\n",
       "2007-05-07 3.6014284   2.880228 -0.7212009       1.569668     0.0 10.484494\n",
       "2007-05-08 3.0864031   2.901163 -0.1852404       1.918436     5.8  9.967429\n",
       "2007-05-09 3.8685696   2.950288 -0.9182811       1.788734     0.0 11.999762\n",
       "           RH_F_avg SW_IN_F_avg RNET_F_avg VPD_F_avg PAR_avg TA_F_min VPD_F_min\n",
       "2007-05-04 20.36750    246.6755         NA 1.7772101      NA 15.37122  1.248726\n",
       "2007-05-05 38.09231    365.9140         NA 0.8719900      NA  6.75012  0.371017\n",
       "2007-05-06 51.02854    365.9140         NA 0.5806247      NA  4.19226  0.197185\n",
       "2007-05-07 46.78256    388.7169         NA 0.8043145      NA  2.86882  0.156562\n",
       "2007-05-08 77.36767    337.2944         NA 0.2936560      NA  7.11341  0.043711\n",
       "2007-05-09 63.82891    365.9140         NA 0.6533969      NA  5.91231  0.009825\n",
       "           TA_F_max VPD_F_max ET_mm_dayint PET_mm_dayint\n",
       "2007-05-04 21.48348  2.192868    0.8564295      1.094394\n",
       "2007-05-05 15.71925  1.252715    1.7416766      2.893912\n",
       "2007-05-06 13.22131  1.166246    1.4570521      2.688629\n",
       "2007-05-07 17.90989  1.664244    1.4764410      2.394168\n",
       "2007-05-08 13.27649  0.642441    1.8663456      2.359669\n",
       "2007-05-09 19.27392  1.647653    1.7426059      2.974067"
      ]
     },
     "execution_count": 1,
     "metadata": {},
     "output_type": "execute_result"
    }
   ],
   "source": [
    "# Load daily data files\n",
    "source('../r_functions/load_nmeg.r')\n",
    "\n",
    "seg <- daily_to_xts(get_daily_file('Seg', 'aflx', make_new=FALSE))\n",
    "ses <- daily_to_xts(get_daily_file('Ses', 'aflx', make_new=FALSE))\n",
    "sen <- daily_to_xts(get_daily_file('Sen', 'aflx', make_new=FALSE))\n",
    "# wjs has some empty rows that are a problem\n",
    "wjs <- daily_to_xts(get_daily_file('Wjs', 'aflx', make_new=FALSE))\n",
    "nonemptyrows <- rowSums(is.na(wjs)) != ncol(wjs)\n",
    "firstnonempty <- min(which(nonemptyrows))\n",
    "wjs <- wjs[firstnonempty:nrow(wjs),]\n",
    "\n",
    "mpj <- daily_to_xts(get_daily_file('Mpj', 'aflx', make_new=FALSE))\n",
    "mpg <- daily_to_xts(get_daily_file('Mpg', 'aflx', make_new=FALSE))\n",
    "vcp <- daily_to_xts(get_daily_file('Vcp', 'aflx', make_new=FALSE))\n",
    "vcm <- daily_to_xts(get_daily_file('Vcm', 'aflx', make_new=FALSE))\n",
    "\n",
    "head(wjs)"
   ]
  },
  {
   "cell_type": "markdown",
   "metadata": {},
   "source": [
    "## Examine climatic water deficit for all sites"
   ]
  },
  {
   "cell_type": "code",
   "execution_count": 8,
   "metadata": {
    "collapsed": false,
    "scrolled": true
   },
   "outputs": [
    {
     "data": {
      "text/plain": [
       "                  Seg        Ses Sen       Wjs Mpj Mpg         Vcp         Vcm\n",
       "2007-01-31  -4.355087  -3.224694  NA        NA  NA  NA   13.654987   63.681267\n",
       "2007-02-28 -13.779283 -11.052548  NA        NA  NA  NA    7.133503   24.946473\n",
       "2007-03-31 -11.541623  -9.908601  NA        NA  NA  NA   26.366218   14.449853\n",
       "2007-04-30 -33.962316 -22.912343  NA        NA  NA  NA  -30.533337    3.894350\n",
       "2007-05-31 -64.449426 -35.402545  NA -65.22351  NA  NA  -33.404282    2.293258\n",
       "2007-06-30 -59.818992 -65.363961  NA -33.36749  NA  NA -131.978907 -100.864471"
      ]
     },
     "execution_count": 8,
     "metadata": {},
     "output_type": "execute_result"
    }
   ],
   "source": [
    "# Calculate climatic water deficit\n",
    "sitelist <- list( seg, ses, sen, wjs, mpj, mpg, vcp, vcm )\n",
    "sitenames <- list( 'Seg', 'Ses', 'Sen', 'Wjs', 'Mpj', 'Mpg', 'Vcp', 'Vcm' )\n",
    "cwdiff <- data.frame()\n",
    "for (i in 1:8){\n",
    "    cwdiff <- cbind( cwdiff, apply.monthly(sitelist[[i]]$P_F, FUN=sum) - \n",
    "                    apply.monthly(sitelist[[i]]$PET_mm_dayint, FUN=sum))\n",
    "}\n",
    "colnames(cwdiff) <- sitenames\n",
    "head(cwdiff)\n",
    "#plot.xts(cwdiff, screens=1)\n"
   ]
  },
  {
   "cell_type": "markdown",
   "metadata": {},
   "source": [
    "## Load packages for calculating SPEI\n",
    "This package is on CRAN [here](https://cran.r-project.org/web/packages/SPEI/index.html). Website for the project is <http://sac.csic.es/spei/index.html>\n",
    "\n",
    "If not installed use \"install.packages('SPEI')\""
   ]
  },
  {
   "cell_type": "code",
   "execution_count": 9,
   "metadata": {
    "collapsed": false
   },
   "outputs": [
    {
     "name": "stderr",
     "output_type": "stream",
     "text": [
      "Loading required package: lmomco\n",
      "Loading required package: parallel\n",
      "# Package SPEI (1.6) loaded [try SPEINews()].\n"
     ]
    }
   ],
   "source": [
    "library('SPEI')\n",
    "library('xts')"
   ]
  },
  {
   "cell_type": "code",
   "execution_count": 11,
   "metadata": {
    "collapsed": false
   },
   "outputs": [],
   "source": [
    "# Function for retrieving SPEI values from a dataframe at\n",
    "# a number of different timesteps\n",
    "get_spei_steps <- function(df, sitename, tstep='monthly',\n",
    "                           int_steps=seq(1, 12), plot=TRUE){\n",
    "    if (tstep=='monthly'){\n",
    "        freq <- 12\n",
    "        } else if (tstep=='weekly'){\n",
    "        freq <- 52\n",
    "    }\n",
    "    # Get start date\n",
    "    startmon <- as.yearmon(index(df[1]))\n",
    "    startyr <- floor(as.numeric(startmon))\n",
    "    startmon <- as.numeric( format( startmon, '%m'))\n",
    "    # Calculate climatic water difference on a weekly or monthly scale\n",
    "    if (tstep=='monthly'){\n",
    "        cwdiff <- apply.monthly(df$P_F_sum, FUN=sum) - apply.monthly(df$PET_mm_dayint, FUN=sum)\n",
    "    } else if (tstep=='weekly'){\n",
    "        cwdiff <- apply.weekly(df$P_F_sum, FUN=sum) - apply.weekly(df$PET_mm_dayint, FUN=sum)\n",
    "    }\n",
    "    colnames(cwdiff) <- sitename\n",
    "    for (i in 1:length(int_steps)){\n",
    "        # Integration period for SPEI (in number of timesteps)\n",
    "        SPEI_int_per <- int_steps[i]\n",
    "        # Get spei for that integration period\n",
    "        spei_int <- spei(ts(cwdiff, frequency=freq, start=c(startyr, startmon)), SPEI_int_per, na.rm=TRUE)\n",
    "        if (plot){\n",
    "            plot(spei_int)\n",
    "        }\n",
    "        # Extract the spei values from the returned object and make xts\n",
    "        spei_int <- xts(as.vector(spei_int$fitted),  index(cwdiff))\n",
    "        colnames(spei_int) <- paste('SPEI_', tstep, '_', as.character(SPEI_int_per), sep='')\n",
    "        if (i==1){\n",
    "            df_new <- spei_int\n",
    "        } else if (i > 1) {\n",
    "            df_new <- cbind(df_new, spei_int)\n",
    "        }\n",
    "    }\n",
    "    print(head(df_new))\n",
    "    \n",
    "    # Somehow a funky entry at 2009-2-12 is created, remove\n",
    "    #print(nrow(df_new))\n",
    "    #df_new <- df_new[c('::2009-01-31', '2009-02-28::')]\n",
    "    #print(nrow(df_new))\n",
    "    \n",
    "    # There may be both infinite and NA values in the output\n",
    "    # Convert -Inf to NA\n",
    "    print(sum(is.na(df_new)))\n",
    "    df_new[!is.finite(df_new)] <- NA\n",
    "    print(sum(is.na(df_new)))\n",
    "    \n",
    "    # Interpolate over NA values\n",
    "    df_new_interp <- na.approx(df_new)\n",
    "        \n",
    "    return( list(df_new, df_new_interp) )\n",
    "}"
   ]
  },
  {
   "cell_type": "code",
   "execution_count": 59,
   "metadata": {
    "collapsed": false
   },
   "outputs": [
    {
     "name": "stdout",
     "output_type": "stream",
     "text": [
      "[1] \"Sen\"\n",
      "           GPP_g_int RECO_g_int FC_F_g_int ET_mm_24hint_0 P_F_sum   TA_F_avg\n",
      "2010-01-01 0.1136120  0.4259083 0.31229628      0.4032358       0 -2.5114543\n",
      "2010-01-02 0.2161500  0.3143947 0.09824470      0.2736742       0 -0.2682929\n",
      "2010-01-03 0.1204642  0.3600118 0.23954760      0.2097532       0 -0.9624908\n",
      "2010-01-04 0.1580211  0.3750380 0.21701696      0.1573903       0 -3.0812138\n",
      "2010-01-05 0.1367253  0.3438134 0.20708806      0.1526637       0 -3.3661277\n",
      "2010-01-06 0.1897916  0.2673470 0.07755541      0.1364428       0 -0.6928112\n",
      "           RH_F_avg SW_IN_F_avg RNET_F_avg VPD_F_avg  TA_F_min VPD_F_min\n",
      "2010-01-01 59.81988    166.7249   45.91650 0.2537424 -10.21888  0.037451\n",
      "2010-01-02 62.02385    146.0594   36.79920 0.2731999  -6.29779  0.035677\n",
      "2010-01-03 61.37402    165.1616   37.36449 0.2668355  -7.10839  0.037133\n",
      "2010-01-04 66.35104    164.8700   40.86090 0.2208267  -9.35950  0.027159\n",
      "2010-01-05 67.14276    161.6243   40.18154 0.2360786 -10.76979  0.020663\n",
      "2010-01-06 60.49358    164.1824   46.16475 0.3291355  -9.00740  0.026684\n",
      "           TA_F_max VPD_F_max ET_mm_dayint PET_mm_dayint\n",
      "2010-01-01  5.67984  0.706714    0.3936216     0.3545484\n",
      "2010-01-02  8.59269  0.801543    0.2401088     0.3199971\n",
      "2010-01-03  6.42899  0.692932    0.2016021     0.2715709\n",
      "2010-01-04  5.87125  0.700535    0.1663694     0.2803090\n",
      "2010-01-05  7.43747  0.786847    0.1575449     0.3049781\n",
      "2010-01-06  9.80346  0.964499    0.1417632     0.3167749\n",
      "           SPEI_monthly_1 SPEI_monthly_2 SPEI_monthly_3 SPEI_monthly_4\n",
      "2010-01-31             NA             NA             NA             NA\n",
      "2010-02-28      1.6160337       1.597385             NA             NA\n",
      "2010-03-31      1.3332477             NA       1.595097             NA\n",
      "2010-04-30      0.9209119       1.176840       1.439131      1.5296005\n",
      "2010-05-31     -1.3410072      -1.422840      -0.882110      0.4901951\n",
      "2010-06-30     -0.9326078      -1.373149      -1.558114     -1.2083621\n",
      "           SPEI_monthly_5 SPEI_monthly_6 SPEI_monthly_7 SPEI_monthly_8\n",
      "2010-01-31             NA             NA             NA             NA\n",
      "2010-02-28             NA             NA             NA             NA\n",
      "2010-03-31             NA             NA             NA             NA\n",
      "2010-04-30             NA             NA             NA             NA\n",
      "2010-05-31      1.1641243             NA             NA             NA\n",
      "2010-06-30      0.2263833       0.989293             NA             NA\n",
      "           SPEI_monthly_9 SPEI_monthly_10 SPEI_monthly_11 SPEI_monthly_12\n",
      "2010-01-31             NA              NA              NA              NA\n",
      "2010-02-28             NA              NA              NA              NA\n",
      "2010-03-31             NA              NA              NA              NA\n",
      "2010-04-30             NA              NA              NA              NA\n",
      "2010-05-31             NA              NA              NA              NA\n",
      "2010-06-30             NA              NA              NA              NA\n",
      "[1] 149\n",
      "[1] 149\n"
     ]
    }
   ],
   "source": [
    "sitenum <- 3\n",
    "int_steps1 <- seq(1, 12)\n",
    "print( sitenames[[sitenum]] )\n",
    "print( head(sitelist[[sitenum]]) )\n",
    "#df <- sitelist[[sitenum]]\n",
    "#cwdiff1 <- apply.weekly(df$P_F, FUN=sum) - apply.weekly(df$PET_mm_dayint, FUN=sum)\n",
    "#spei_int1 <- spei(ts(cwdiff1, frequency=52, start=c(startyr, 1)), SPEI_int_per, na.rm=TRUE)\n",
    "spei_weekly <- get_spei_steps(sitelist[[sitenum]], sitenames[[sitenum]], int_steps=int_steps1, tstep='monthly', plot=FALSE)\n",
    "#print( spei_weekly[[2]] )"
   ]
  },
  {
   "cell_type": "code",
   "execution_count": 56,
   "metadata": {
    "collapsed": false,
    "scrolled": true
   },
   "outputs": [
    {
     "name": "stdout",
     "output_type": "stream",
     "text": [
      "           SPEI_monthly_1 SPEI_monthly_2 SPEI_monthly_3 SPEI_monthly_4\n",
      "2010-01-31             NA             NA             NA             NA\n",
      "2010-02-28      1.6160337       1.597385             NA             NA\n",
      "2010-03-31      1.3332477             NA       1.595097             NA\n",
      "2010-04-30      0.9209119       1.176840       1.439131      1.5296005\n",
      "2010-05-31     -1.3410072      -1.422840      -0.882110      0.4901951\n",
      "2010-06-30     -0.9326078      -1.373149      -1.558114     -1.2083621\n",
      "           SPEI_monthly_5 SPEI_monthly_6 SPEI_monthly_7 SPEI_monthly_8\n",
      "2010-01-31             NA             NA             NA             NA\n",
      "2010-02-28             NA             NA             NA             NA\n",
      "2010-03-31             NA             NA             NA             NA\n",
      "2010-04-30             NA             NA             NA             NA\n",
      "2010-05-31      1.1641243             NA             NA             NA\n",
      "2010-06-30      0.2263833       0.989293             NA             NA\n",
      "           SPEI_monthly_9 SPEI_monthly_10 SPEI_monthly_11 SPEI_monthly_12\n",
      "2010-01-31             NA              NA              NA              NA\n",
      "2010-02-28             NA              NA              NA              NA\n",
      "2010-03-31             NA              NA              NA              NA\n",
      "2010-04-30             NA              NA              NA              NA\n",
      "2010-05-31             NA              NA              NA              NA\n",
      "2010-06-30             NA              NA              NA              NA\n",
      "           SPEI_monthly_13 SPEI_monthly_14 SPEI_monthly_15 SPEI_monthly_16\n",
      "2010-01-31              NA              NA              NA              NA\n",
      "2010-02-28              NA              NA              NA              NA\n",
      "2010-03-31              NA              NA              NA              NA\n",
      "2010-04-30              NA              NA              NA              NA\n",
      "2010-05-31              NA              NA              NA              NA\n",
      "2010-06-30              NA              NA              NA              NA\n",
      "           SPEI_monthly_17 SPEI_monthly_18 SPEI_monthly_19 SPEI_monthly_20\n",
      "2010-01-31              NA              NA              NA              NA\n",
      "2010-02-28              NA              NA              NA              NA\n",
      "2010-03-31              NA              NA              NA              NA\n",
      "2010-04-30              NA              NA              NA              NA\n",
      "2010-05-31              NA              NA              NA              NA\n",
      "2010-06-30              NA              NA              NA              NA\n",
      "           SPEI_monthly_21 SPEI_monthly_22 SPEI_monthly_23\n",
      "2010-01-31              NA              NA              NA\n",
      "2010-02-28              NA              NA              NA\n",
      "2010-03-31              NA              NA              NA\n",
      "2010-04-30              NA              NA              NA\n",
      "2010-05-31              NA              NA              NA\n",
      "2010-06-30              NA              NA              NA\n",
      "[1] 611\n",
      "[1] 611\n"
     ]
    }
   ],
   "source": [
    "# Create monthly files\n",
    "\n",
    "for (j in 1:length(sitelist)){\n",
    "    df_j <- sitelist[[j]]\n",
    "    sitenm <- sitenames[[j]]\n",
    "    int_steps1 <- seq(1, 24)\n",
    "    if(sitenm=='Sen'){\n",
    "        int_steps1 <- seq(1, 23)# For some reason Sen has a problem with 24 month SPEI\n",
    "    }\n",
    "    spei_monthly <- get_spei_steps(df_j, sitenm, int_steps=int_steps1, tstep='monthly', plot=FALSE)\n",
    "    outfile <- paste('../processed_data/spei/SPEI_monthly_US-',\n",
    "                     sitenames[[j]], '.csv', sep='')\n",
    "    write.zoo(spei_monthly[[1]], file = outfile,\n",
    "              index.name = \"Date\", sep=',', row.names = FALSE, col.names=TRUE)\n",
    "    outfile <- paste('../processed_data/spei/SPEI_monthly_US-', sitenames[[j]],\n",
    "                     '_nainterp.csv', sep='')\n",
    "    write.zoo(spei_monthly[[2]], file = outfile,\n",
    "              index.name = \"Date\", sep=',', row.names = FALSE, col.names=TRUE)\n",
    "}"
   ]
  },
  {
   "cell_type": "code",
   "execution_count": 55,
   "metadata": {
    "collapsed": false
   },
   "outputs": [
    {
     "name": "stdout",
     "output_type": "stream",
     "text": [
      "           SPEI_weekly_4 SPEI_weekly_8 SPEI_weekly_12 SPEI_weekly_16\n",
      "2010-01-03            NA            NA             NA             NA\n",
      "2010-01-10            NA            NA             NA             NA\n",
      "2010-01-17            NA            NA             NA             NA\n",
      "2010-01-24            NA            NA             NA             NA\n",
      "2010-01-31      1.408190            NA             NA             NA\n",
      "2010-02-07      1.785578            NA             NA             NA\n",
      "           SPEI_weekly_20 SPEI_weekly_24 SPEI_weekly_28 SPEI_weekly_32\n",
      "2010-01-03             NA             NA             NA             NA\n",
      "2010-01-10             NA             NA             NA             NA\n",
      "2010-01-17             NA             NA             NA             NA\n",
      "2010-01-24             NA             NA             NA             NA\n",
      "2010-01-31             NA             NA             NA             NA\n",
      "2010-02-07             NA             NA             NA             NA\n",
      "           SPEI_weekly_36 SPEI_weekly_40 SPEI_weekly_44 SPEI_weekly_48\n",
      "2010-01-03             NA             NA             NA             NA\n",
      "2010-01-10             NA             NA             NA             NA\n",
      "2010-01-17             NA             NA             NA             NA\n",
      "2010-01-24             NA             NA             NA             NA\n",
      "2010-01-31             NA             NA             NA             NA\n",
      "2010-02-07             NA             NA             NA             NA\n",
      "           SPEI_weekly_52 SPEI_weekly_56 SPEI_weekly_60 SPEI_weekly_64\n",
      "2010-01-03             NA             NA             NA             NA\n",
      "2010-01-10             NA             NA             NA             NA\n",
      "2010-01-17             NA             NA             NA             NA\n",
      "2010-01-24             NA             NA             NA             NA\n",
      "2010-01-31             NA             NA             NA             NA\n",
      "2010-02-07             NA             NA             NA             NA\n",
      "           SPEI_weekly_68 SPEI_weekly_72 SPEI_weekly_76 SPEI_weekly_80\n",
      "2010-01-03             NA             NA             NA             NA\n",
      "2010-01-10             NA             NA             NA             NA\n",
      "2010-01-17             NA             NA             NA             NA\n",
      "2010-01-24             NA             NA             NA             NA\n",
      "2010-01-31             NA             NA             NA             NA\n",
      "2010-02-07             NA             NA             NA             NA\n",
      "           SPEI_weekly_84 SPEI_weekly_88 SPEI_weekly_92 SPEI_weekly_96\n",
      "2010-01-03             NA             NA             NA             NA\n",
      "2010-01-10             NA             NA             NA             NA\n",
      "2010-01-17             NA             NA             NA             NA\n",
      "2010-01-24             NA             NA             NA             NA\n",
      "2010-01-31             NA             NA             NA             NA\n",
      "2010-02-07             NA             NA             NA             NA\n",
      "[1] 2798\n",
      "[1] 2798\n"
     ]
    }
   ],
   "source": [
    "# Now weekly\n",
    "#\n",
    "# WARNING - note that weekly SPEI generates more NA values - not sure why\n",
    "#\n",
    "int_steps2 <- seq(4, 96, 4)\n",
    "for (j in 1:length(sitelist)){\n",
    "    df_j <- sitelist[[j]]\n",
    "    spei_weekly <- get_spei_steps(df_j, 'Ses', int_steps=int_steps2, tstep='weekly', plot=FALSE)\n",
    "    outfile <- paste('../processed_data/spei/SPEI_weekly_US-',\n",
    "                     sitenames[[j]], '.csv', sep='')\n",
    "    write.zoo(spei_weekly[[1]], file = outfile,\n",
    "              index.name = \"Date\", sep=',', row.names = FALSE, col.names=TRUE)\n",
    "    outfile <- paste('../processed_data/spei/SPEI_weekly_US-', sitenames[[j]],\n",
    "                     '_nainterp.csv', sep='')\n",
    "    write.zoo(spei_weekly[[2]], file = outfile,\n",
    "              index.name = \"Date\", sep=',', row.names = FALSE, col.names=TRUE)\n",
    "}"
   ]
  },
  {
   "cell_type": "markdown",
   "metadata": {},
   "source": [
    "## Now calculate SPEI for historical periods (PRISM)"
   ]
  },
  {
   "cell_type": "code",
   "execution_count": 4,
   "metadata": {
    "collapsed": false,
    "scrolled": false
   },
   "outputs": [
    {
     "data": {
      "text/plain": [
       "           US.Wjs US.Mpj US.Mpg US.Seg US.Sen US.Ses US.Vcm US.Vcp\n",
       "1981-01-31   3.88   5.38   5.26   5.38   6.10   5.58   4.21   4.39\n",
       "1981-02-28   5.97   8.40   8.55   4.73   4.95   4.59  28.38  23.72\n",
       "1981-03-31  16.98  24.01  24.16  16.08  16.50  16.11 161.74 136.64\n",
       "1981-04-30  11.00  19.80  19.94  10.30  13.20  10.74  47.23  43.04\n",
       "1981-05-31  10.12  16.72  15.86   9.75  10.13   9.26  88.62  76.18\n",
       "1981-06-30  20.76  16.05  15.49  12.04  12.21  10.90  61.35  57.34"
      ]
     },
     "execution_count": 4,
     "metadata": {},
     "output_type": "execute_result"
    },
    {
     "data": {
      "text/plain": [
       "           US.Wjs US.Mpj US.Mpg US.Seg US.Sen US.Ses US.Vcm US.Vcp\n",
       "1981-01-31  2.075  1.340  1.515  3.615  3.535  3.620 -2.020 -0.890\n",
       "1981-02-28  4.055  3.510  3.665  6.205  6.010  6.320 -2.580 -1.385\n",
       "1981-03-31  5.245  4.555  4.675  8.080  7.910  8.095 -2.415 -1.115\n",
       "1981-04-30 12.065 11.015 11.170 15.190 14.915 15.240  3.945  5.420\n",
       "1981-05-31 14.975 13.525 13.695 18.585 18.305 18.615  6.125  7.640\n",
       "1981-06-30 21.625 20.955 21.180 24.770 24.505 24.850 13.450 14.710"
      ]
     },
     "execution_count": 4,
     "metadata": {},
     "output_type": "execute_result"
    },
    {
     "data": {
      "text/plain": [
       "           US.Wjs US.Mpj US.Mpg US.Seg US.Sen US.Ses US.Vcm US.Vcp\n",
       "2015-07-31 21.619 21.099 21.319 24.105 23.864 24.324 13.134 14.850\n",
       "2015-08-31 21.820 21.394 21.585 24.864 24.605 25.034 13.629 15.339\n",
       "2015-09-30 19.835 19.315 19.484 22.249 21.999 22.444 12.124 13.784\n",
       "2015-10-31 13.130 12.669 12.809 15.679 15.454 15.849  7.074  8.325\n",
       "2015-11-30  5.549  4.830  4.985  6.745  6.670  6.879 -0.380  0.825\n",
       "2015-12-31  1.445  1.005  1.250  1.644  1.590  1.875 -4.159 -3.084"
      ]
     },
     "execution_count": 4,
     "metadata": {},
     "output_type": "execute_result"
    }
   ],
   "source": [
    "fpath <- '/home/greg/sftp/eddyflux/Ancillary_met_data/PRISM_monthly/'\n",
    "fname_ppt <- 'PRISM_Monthly_ppt_1981_2015.csv'\n",
    "fname_tmean <-'PRISM_Monthly_tmean_1981_2015.csv'\n",
    "#header <- read.csv(fname, skip=3, nrows=1)\n",
    "df_ppt <- read.csv(paste(fpath, fname_ppt, sep=''))\n",
    "df_tmean <- read.csv(paste(fpath, fname_tmean, sep=''))\n",
    "df_ppt <- xts( df_ppt[,2:ncol(df_ppt)], as.Date(df_ppt$date))\n",
    "df_tmean <- xts( df_tmean[,2:ncol(df_tmean)], as.Date(df_tmean$date))\n",
    "head(df_ppt)\n",
    "head(df_tmean)"
   ]
  },
  {
   "cell_type": "code",
   "execution_count": 5,
   "metadata": {
    "collapsed": false
   },
   "outputs": [
    {
     "data": {
      "text/html": [
       "<table>\n",
       "<thead><tr><th></th><th scope=col>sitecode</th><th scope=col>lat</th><th scope=col>lon</th></tr></thead>\n",
       "<tbody>\n",
       "\t<tr><th scope=row>1</th><td>US-Wjs</td><td>34.42549</td><td>-105.8615</td></tr>\n",
       "\t<tr><th scope=row>2</th><td>US-Mpj</td><td>34.43845</td><td>-106.2377</td></tr>\n",
       "\t<tr><th scope=row>3</th><td>US-Mpg</td><td>34.44682</td><td>-106.2134</td></tr>\n",
       "\t<tr><th scope=row>4</th><td>US-Seg</td><td>34.36233</td><td>-106.7019</td></tr>\n",
       "\t<tr><th scope=row>5</th><td>US-Sen</td><td>34.35802</td><td>-106.6799</td></tr>\n",
       "\t<tr><th scope=row>6</th><td>US-Ses</td><td>34.33494</td><td>-106.7442</td></tr>\n",
       "\t<tr><th scope=row>7</th><td>US-Vcm</td><td>35.88845</td><td>-106.5321</td></tr>\n",
       "\t<tr><th scope=row>8</th><td>US-Vcp</td><td>35.86423</td><td>-106.5967</td></tr>\n",
       "</tbody>\n",
       "</table>\n"
      ],
      "text/latex": [
       "\\begin{tabular}{r|lll}\n",
       "  & sitecode & lat & lon\\\\\n",
       "\\hline\n",
       "\t1 & US-Wjs & 34.42549 & -105.8615\\\\\n",
       "\t2 & US-Mpj & 34.43845 & -106.2377\\\\\n",
       "\t3 & US-Mpg & 34.44682 & -106.2134\\\\\n",
       "\t4 & US-Seg & 34.36233 & -106.7019\\\\\n",
       "\t5 & US-Sen & 34.35802 & -106.6799\\\\\n",
       "\t6 & US-Ses & 34.33494 & -106.7442\\\\\n",
       "\t7 & US-Vcm & 35.88845 & -106.5321\\\\\n",
       "\t8 & US-Vcp & 35.86423 & -106.5967\\\\\n",
       "\\end{tabular}\n"
      ],
      "text/plain": [
       "  sitecode      lat       lon\n",
       "1   US-Wjs 34.42549 -105.8615\n",
       "2   US-Mpj 34.43845 -106.2377\n",
       "3   US-Mpg 34.44682 -106.2134\n",
       "4   US-Seg 34.36233 -106.7019\n",
       "5   US-Sen 34.35802 -106.6799\n",
       "6   US-Ses 34.33494 -106.7442\n",
       "7   US-Vcm 35.88845 -106.5321\n",
       "8   US-Vcp 35.86423 -106.5967"
      ]
     },
     "execution_count": 5,
     "metadata": {},
     "output_type": "execute_result"
    }
   ],
   "source": [
    "# Get site coordinates\n",
    "coords <- read.csv('../site_coords.txt')\n",
    "coords"
   ]
  },
  {
   "cell_type": "markdown",
   "metadata": {},
   "source": [
    "## Calculate SPEI using thornwaite PET"
   ]
  },
  {
   "cell_type": "code",
   "execution_count": 10,
   "metadata": {
    "collapsed": false
   },
   "outputs": [
    {
     "name": "stdout",
     "output_type": "stream",
     "text": [
      "[1] 276\n",
      "[1] 276\n",
      "[1] 276\n",
      "[1] 276\n",
      "[1] 276\n",
      "[1] 276\n",
      "[1] 276\n",
      "[1] 276\n",
      "[1] 276\n",
      "[1] 276\n",
      "[1] 276\n",
      "[1] 276\n",
      "[1] 276\n",
      "[1] 276\n",
      "[1] 276\n",
      "[1] 276\n"
     ]
    }
   ],
   "source": [
    "plot_spei <- FALSE\n",
    "int_steps1 <- seq(1, 24)\n",
    "\n",
    "for (i in 1:length(sitenames)){\n",
    "    # Get site name and latitude\n",
    "    sitename1 <- paste('US-', sitenames[[i]], sep='')\n",
    "    lat <- coords[coords$sitecode==sitename1, 2]\n",
    "    sitename2 <- paste('US.', sitenames[[i]], sep='') # Format sitename for PRISM datasets\n",
    "    # Calculate pet and climatic water diff with thornthwaite (convert to ts for this)\n",
    "    ta <- ts(df_tmean[,sitename2], frequency=12)\n",
    "    ppt <- ts(df_ppt[,sitename2], frequency=12)\n",
    "    pet <- thornthwaite(ta, lat, na.rm=T)\n",
    "    cwdiff <- ppt - pet\n",
    "    for (j in 1:length(int_steps1)) {\n",
    "        int_per <- int_steps1[j]\n",
    "        spei_int <- spei(ts(cwdiff, frequency=12, start=c(1981, 1)), int_per, na.rm=TRUE)\n",
    "        if (plot_spei){\n",
    "            plot(spei_int)\n",
    "        }\n",
    "        spei_int <- xts(as.vector(spei_int$fitted),  index(df_tmean))\n",
    "        colnames(spei_int) <- paste('SPEI_monthly_', as.character(int_per), sep='')\n",
    "        if (j==1){\n",
    "            spei_site <- spei_int\n",
    "        } else {\n",
    "            spei_site <- cbind(spei_site, spei_int)\n",
    "        }\n",
    "    }\n",
    "    # There may be both infinite and NA values in the output\n",
    "    # Convert -Inf to NA\n",
    "    print(sum(is.na(spei_site)))\n",
    "    spei_site[!is.finite(spei_site)] <- NA\n",
    "    print(sum(is.na(spei_site)))\n",
    "    # Actually there are no NA values - ignore this\n",
    "    \n",
    "    # Interpolate over NA values\n",
    "    #spei_site_interp <- na.approx(spei_site)\n",
    "    \n",
    "    # Write files\n",
    "    outfile <- paste('../processed_data/spei/SPEI_PRISM_monthly_', sitename1,\n",
    "                     '.csv', sep='')\n",
    "    write.zoo(spei_site, file = outfile,\n",
    "              index.name = \"Date\", sep=',', row.names = FALSE, col.names=TRUE)\n",
    "    \n",
    "    #outfile <- paste('../processed_data/spei/SPEI_PRISM_monthly_', sitename1,\n",
    "    #                 '_nainterp.csv', sep='')\n",
    "    #write.zoo(spei_site_interp, file = outfile,\n",
    "    #          index.name = \"Date\", sep=',', row.names = FALSE, col.names=TRUE)\n",
    "}"
   ]
  }
 ],
 "metadata": {
  "kernelspec": {
   "display_name": "R",
   "language": "R",
   "name": "ir"
  },
  "language_info": {
   "codemirror_mode": "r",
   "file_extension": ".r",
   "mimetype": "text/x-r-source",
   "name": "R",
   "pygments_lexer": "r",
   "version": "3.2.5"
  }
 },
 "nbformat": 4,
 "nbformat_minor": 0
}
