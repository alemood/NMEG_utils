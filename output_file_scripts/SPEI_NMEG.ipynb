{
 "cells": [
  {
   "cell_type": "markdown",
   "metadata": {
    "collapsed": false
   },
   "source": [
    "# NMEG SPEI\n",
    "\n",
    "Calculate SPEI (Standardized precipitation-evaporation index) for NMEG data and historical SPEI at the sites."
   ]
  },
  {
   "cell_type": "markdown",
   "metadata": {},
   "source": [
    "## First calculate SPEI for NMEG data period"
   ]
  },
  {
   "cell_type": "code",
   "execution_count": 1,
   "metadata": {
    "collapsed": false
   },
   "outputs": [
    {
     "name": "stderr",
     "output_type": "stream",
     "text": [
      "Loading required package: zoo\n",
      "\n",
      "Attaching package: ‘zoo’\n",
      "\n",
      "The following objects are masked from ‘package:base’:\n",
      "\n",
      "    as.Date, as.Date.numeric\n",
      "\n"
     ]
    },
    {
     "data": {
      "text/plain": [
       "            GPP_g_int RECO_g_int FC_F_g_int ET_mm_fullday_0 P_F       TA_F\n",
       "2007-01-01 0.12626547  0.2057688 0.07950336       1.0078243   0 -2.8387670\n",
       "2007-01-02 0.09631599  0.4388484 0.34253244       0.9446642   0 -1.4170800\n",
       "2007-01-03 0.22328216  0.3979440 0.17466182       0.7102144   0  0.8552379\n",
       "2007-01-04 0.29392702  0.4046708 0.11074375       0.4587709   0  1.0826423\n",
       "2007-01-05 0.19976371  0.2330954 0.03333168       0.4499571   0 -6.3807404\n",
       "2007-01-06 0.05133946  0.4993724 0.44803295       1.7670479   0 -9.9878025\n",
       "               RH_F   SW_IN_F      VPD_F  TA_F_min VPD_F_min TA_F_max VPD_F_max\n",
       "2007-01-01 49.87072 113.84493 0.25164502  -5.15918  0.115820 -0.75936  0.384027\n",
       "2007-01-02 40.51016 129.52388 0.33900065  -4.92205  0.114977  1.98509  0.541441\n",
       "2007-01-03 32.04234 144.08240 0.44169131  -1.83173  0.288466  5.06760  0.577254\n",
       "2007-01-04 41.48273 147.71834 0.39319227  -1.77366  0.237693  4.15514  0.556254\n",
       "2007-01-05 81.55373  24.10896 0.07710852 -10.23000  0.016431 -2.01179  0.282729\n",
       "2007-01-06 67.66120  73.07428 0.10438206 -15.72794  0.015690 -5.94790  0.245156\n",
       "           ET_F_mm_daytime PET_F_mm_daytime\n",
       "2007-01-01       0.6135937        0.3069256\n",
       "2007-01-02       0.7455609        0.5494074\n",
       "2007-01-03       0.4658464        0.3713635\n",
       "2007-01-04       0.2503775        0.3633792\n",
       "2007-01-05       0.2861914        0.1183312\n",
       "2007-01-06       0.9611044        0.4501034"
      ]
     },
     "execution_count": 1,
     "metadata": {},
     "output_type": "execute_result"
    }
   ],
   "source": [
    "# Load daily data files\n",
    "source('../r_functions/load_nmeg.r')\n",
    "\n",
    "seg <- daily_to_xts(get_daily_file('Seg', 'aflx', make_new=TRUE))\n",
    "ses <- daily_to_xts(get_daily_file('Ses', 'aflx', make_new=FALSE))\n",
    "wjs <- daily_to_xts(get_daily_file('Wjs', 'aflx', make_new=FALSE))\n",
    "mpj <- daily_to_xts(get_daily_file('Mpj', 'aflx', make_new=FALSE))\n",
    "vcp <- daily_to_xts(get_daily_file('Vcp', 'aflx', make_new=FALSE))\n",
    "vcm <- daily_to_xts(get_daily_file('Vcm', 'aflx', make_new=FALSE))\n",
    "\n",
    "head(vcm)"
   ]
  },
  {
   "cell_type": "markdown",
   "metadata": {},
   "source": [
    "## Examine climatic water deficit for 4 sites"
   ]
  },
  {
   "cell_type": "code",
   "execution_count": 2,
   "metadata": {
    "collapsed": false,
    "scrolled": true
   },
   "outputs": [
    {
     "data": {
      "text/plain": [
       "                   Seg        Ses        Wjs         Mpj        Vcp        Vcm\n",
       "2014-07-31 -12.8465358 -35.115332  17.166474  29.7486179  -3.043932  76.328678\n",
       "2014-08-31 -37.0154938 -37.451062 -70.165140 -72.3479162 -76.539294 -14.273178\n",
       "2014-09-30  -0.7954797 -12.892907  21.870188 -10.3604224 -64.113226 -30.590459\n",
       "2014-10-31 -23.2139050 -17.646974 -46.321232 -35.2171479 -18.356565  27.974568\n",
       "2014-11-30  -4.0476426  -5.131684  -1.966827  -0.6147046  -1.772411   6.297995\n",
       "2014-12-31   1.5877486  -1.766598  -5.781882   7.8099529  25.366069  19.357315"
      ]
     },
     "execution_count": 2,
     "metadata": {},
     "output_type": "execute_result"
    }
   ],
   "source": [
    "# Calculate climatic water deficit\n",
    "sitelist <- list( seg, ses, wjs, mpj, vcp, vcm )\n",
    "sitenames <- list( 'Seg', 'Ses', 'Wjs', 'Mpj', 'Vcp', 'Vcm' )\n",
    "cwdiff <- data.frame()\n",
    "for (i in 1:6){\n",
    "    cwdiff <- cbind( cwdiff, apply.monthly(sitelist[[i]]$P_F, FUN=sum) - \n",
    "                    apply.monthly(sitelist[[i]]$PET_F_mm_daytime, FUN=sum))\n",
    "}\n",
    "colnames(cwdiff) <- sitenames\n",
    "tail(cwdiff)\n",
    "#plot.xts(cwdiff, screens=1)\n"
   ]
  },
  {
   "cell_type": "markdown",
   "metadata": {},
   "source": [
    "## Load packages for calculating SPEI\n",
    "This package is on CRAN [here](https://cran.r-project.org/web/packages/SPEI/index.html). Website for the project is <http://sac.csic.es/spei/index.html>\n",
    "\n",
    "If not installed use \"install.packages('SPEI')\""
   ]
  },
  {
   "cell_type": "code",
   "execution_count": 3,
   "metadata": {
    "collapsed": false
   },
   "outputs": [
    {
     "name": "stderr",
     "output_type": "stream",
     "text": [
      "Loading required package: lmomco\n",
      "Loading required package: parallel\n",
      "# Package SPEI (1.6) loaded [try SPEINews()].\n"
     ]
    }
   ],
   "source": [
    "library('SPEI')\n",
    "library('xts')"
   ]
  },
  {
   "cell_type": "code",
   "execution_count": 4,
   "metadata": {
    "collapsed": false
   },
   "outputs": [],
   "source": [
    "# Function for retrieving SPEI values from a dataframe at\n",
    "# a number of different timesteps\n",
    "get_spei_steps <- function(df, sitename, tstep='monthly',\n",
    "                           int_steps=seq(1, 12), plot=TRUE){\n",
    "    if (tstep=='monthly'){\n",
    "        freq <- 12\n",
    "        } else if (tstep=='weekly'){\n",
    "        freq <- 52\n",
    "    }\n",
    "    # Get start date\n",
    "    startmon <- as.numeric(as.yearmon(index(df[1])))\n",
    "    startyr <- floor(startmon)\n",
    "    # Calculate climatic water difference on a weekly or monthly scale\n",
    "    if (tstep=='monthly'){\n",
    "        cwdiff <- apply.monthly(df$P_F, FUN=sum) - apply.monthly(df$PET_F_mm_daytime, FUN=sum)\n",
    "    } else if (tstep=='weekly'){\n",
    "        cwdiff <- apply.weekly(df$P_F, FUN=sum) - apply.weekly(df$PET_F_mm_daytime, FUN=sum)\n",
    "    }\n",
    "    colnames(cwdiff) <- sitename\n",
    "    for (i in 1:length(int_steps)){\n",
    "        # Integration period for SPEI (in number of timesteps)\n",
    "        SPEI_int_per <- int_steps[i]\n",
    "        # Get spei for that integration period\n",
    "        spei_int <- spei(ts(cwdiff, frequency=freq, start=c(startyr, 1)), SPEI_int_per, na.rm=TRUE)\n",
    "        if (plot){\n",
    "            plot(spei_int)\n",
    "        }\n",
    "        # Extract the spei values from the returned object and make xts\n",
    "        spei_int <- xts(as.vector(spei_int$fitted),  index(cwdiff))\n",
    "        colnames(spei_int) <- paste('SPEI_', tstep, '_', as.character(SPEI_int_per), sep='')\n",
    "        if (i==1){\n",
    "            df_new <- spei_int\n",
    "            print(head(df_new))\n",
    "        } else if (i > 1) {\n",
    "            df_new <- cbind(df_new, spei_int)\n",
    "        }\n",
    "    }\n",
    "    \n",
    "    # Somehow a funky entry at 2009-2-12 is created, remove\n",
    "    #print(nrow(df_new))\n",
    "    #df_new <- df_new[c('::2009-01-31', '2009-02-28::')]\n",
    "    #print(nrow(df_new))\n",
    "    \n",
    "    # There may be both infinite and NA values in the output\n",
    "    # Convert -Inf to NA\n",
    "    print(sum(is.na(df_new)))\n",
    "    df_new[!is.finite(df_new)] <- NA\n",
    "    print(sum(is.na(df_new)))\n",
    "    \n",
    "    # Interpolate over NA values\n",
    "    df_new_interp <- na.approx(df_new)\n",
    "    #print(head(df_new))\n",
    "    return( list(df_new, df_new_interp) )\n",
    "}"
   ]
  },
  {
   "cell_type": "code",
   "execution_count": 5,
   "metadata": {
    "collapsed": false
   },
   "outputs": [
    {
     "name": "stdout",
     "output_type": "stream",
     "text": [
      "           SPEI_monthly_1\n",
      "2007-01-31      0.5726167\n",
      "2007-02-28     -0.1233249\n",
      "2007-03-31      1.6786612\n",
      "2007-04-30      0.4982194\n",
      "2007-05-31     -1.3626615\n",
      "2007-06-30     -0.7554115\n",
      "[1] 282\n",
      "[1] 282\n",
      "           SPEI_monthly_1\n",
      "2007-01-31      0.9152357\n",
      "2007-02-28      0.5264625\n",
      "2007-03-31      1.6913303\n",
      "2007-04-30      1.4465155\n",
      "2007-05-31      1.4998972\n",
      "2007-06-30     -0.3966785\n",
      "[1] 540\n",
      "[1] 541\n",
      "           SPEI_monthly_1\n",
      "2007-01-31             NA\n",
      "2007-02-28             NA\n",
      "2007-03-31             NA\n",
      "2007-04-30             NA\n",
      "2007-05-31             NA\n",
      "2007-06-30       1.715981\n",
      "[1] 376\n",
      "[1] 377\n",
      "           SPEI_monthly_1\n",
      "2007-01-31             NA\n",
      "2007-02-28             NA\n",
      "2007-03-31             NA\n",
      "2007-04-30             NA\n",
      "2007-05-31             NA\n",
      "2007-06-30             NA\n",
      "[1] 330\n",
      "[1] 330\n",
      "           SPEI_monthly_1\n",
      "2007-01-31      0.3162620\n",
      "2007-02-28      0.3157146\n",
      "2007-03-31      1.5902359\n",
      "2007-04-30      1.0271411\n",
      "2007-05-31      1.6348749\n",
      "2007-06-30     -2.0653364\n",
      "[1] 392\n",
      "[1] 392\n",
      "           SPEI_monthly_1\n",
      "2007-01-31      1.0575868\n",
      "2007-02-28      0.4174722\n",
      "2007-03-31      0.3780600\n",
      "2007-04-30     -0.2463683\n",
      "2007-05-31      1.2429479\n",
      "2007-06-30     -0.3819796\n",
      "[1] 347\n",
      "[1] 347\n"
     ]
    }
   ],
   "source": [
    "# Create monthly files\n",
    "int_steps1 <- seq(1, 24)\n",
    "for (j in 1:length(sitelist)){\n",
    "    df_j <- sitelist[[j]]\n",
    "    spei_monthly <- get_spei_steps(df_j, 'Ses', int_steps=int_steps1, tstep='monthly', plot=FALSE)\n",
    "    outfile <- paste('../processed_data/spei/SPEI_monthly_US-',\n",
    "                     sitenames[[j]], '.csv', sep='')\n",
    "    write.zoo(spei_monthly[[1]], file = outfile,\n",
    "              index.name = \"Date\", sep=',', row.names = FALSE, col.names=TRUE)\n",
    "    outfile <- paste('../processed_data/spei/SPEI_monthly_US-', sitenames[[j]],\n",
    "                     '_nainterp.csv', sep='')\n",
    "    write.zoo(spei_monthly[[2]], file = outfile,\n",
    "              index.name = \"Date\", sep=',', row.names = FALSE, col.names=TRUE)\n",
    "}"
   ]
  },
  {
   "cell_type": "code",
   "execution_count": 6,
   "metadata": {
    "collapsed": false
   },
   "outputs": [
    {
     "name": "stdout",
     "output_type": "stream",
     "text": [
      "           SPEI_weekly_4\n",
      "2007-01-07            NA\n",
      "2007-01-14            NA\n",
      "2007-01-21            NA\n",
      "2007-01-28    0.69534779\n",
      "2007-02-04    0.12589167\n",
      "2007-02-11   -0.06255176\n",
      "[1] 1288\n",
      "[1] 1293\n",
      "           SPEI_weekly_4\n",
      "2007-01-07            NA\n",
      "2007-01-14            NA\n",
      "2007-01-21            NA\n",
      "2007-01-28     0.7348555\n",
      "2007-02-04     0.6007516\n",
      "2007-02-11     0.6921900\n",
      "[1] 2170\n",
      "[1] 2172\n",
      "           SPEI_weekly_4\n",
      "2007-01-07            NA\n",
      "2007-01-14            NA\n",
      "2007-01-21            NA\n",
      "2007-01-28     0.7226340\n",
      "2007-02-04     0.8383332\n",
      "2007-02-11     0.9087611\n",
      "[1] 1783\n",
      "[1] 1783\n",
      "           SPEI_weekly_4\n",
      "2007-01-07            NA\n",
      "2007-01-14            NA\n",
      "2007-01-21            NA\n",
      "2007-01-28     0.2561699\n",
      "2007-02-04     0.6084666\n",
      "2007-02-11     0.8052884\n",
      "[1] 1414\n",
      "[1] 1420\n",
      "           SPEI_weekly_4\n",
      "2007-01-07            NA\n",
      "2007-01-14            NA\n",
      "2007-01-21            NA\n",
      "2007-01-28     1.1935651\n",
      "2007-02-04     0.7270424\n",
      "2007-02-11     0.1658196\n",
      "[1] 1545\n",
      "[1] 1546\n",
      "           SPEI_weekly_4\n",
      "2007-01-07            NA\n",
      "2007-01-14            NA\n",
      "2007-01-21            NA\n",
      "2007-01-28      1.270838\n",
      "2007-02-04            NA\n",
      "2007-02-11      0.463979\n",
      "[1] 1391\n",
      "[1] 1392\n"
     ]
    }
   ],
   "source": [
    "# Now weekly\n",
    "#\n",
    "# WARNING - note that weekly SPEI generates more NA values - not sure why\n",
    "#\n",
    "int_steps2 <- seq(4, 96, 4)\n",
    "for (j in 1:length(sitelist)){\n",
    "    df_j <- sitelist[[j]]\n",
    "    spei_weekly <- get_spei_steps(df_j, 'Ses', int_steps=int_steps2, tstep='weekly', plot=FALSE)\n",
    "    outfile <- paste('../processed_data/spei/SPEI_weekly_US-',\n",
    "                     sitenames[[j]], '.csv', sep='')\n",
    "    write.zoo(spei_weekly[[1]], file = outfile,\n",
    "              index.name = \"Date\", sep=',', row.names = FALSE, col.names=TRUE)\n",
    "    outfile <- paste('../processed_data/spei/SPEI_weekly_US-', sitenames[[j]],\n",
    "                     '_nainterp.csv', sep='')\n",
    "    write.zoo(spei_weekly[[2]], file = outfile,\n",
    "              index.name = \"Date\", sep=',', row.names = FALSE, col.names=TRUE)\n",
    "}"
   ]
  },
  {
   "cell_type": "markdown",
   "metadata": {},
   "source": [
    "## Now calculate SPEI for historical periods (PRISM)"
   ]
  },
  {
   "cell_type": "code",
   "execution_count": 7,
   "metadata": {
    "collapsed": false,
    "scrolled": false
   },
   "outputs": [
    {
     "data": {
      "text/plain": [
       "           US.Wjs US.Mpj US.Mpg US.Seg US.Sen US.Ses US.Vcm US.Vcp\n",
       "1981-01-31   3.88   5.38   5.26   5.38   6.10   5.58   4.21   4.39\n",
       "1981-02-28   5.97   8.40   8.55   4.73   4.95   4.59  28.38  23.72\n",
       "1981-03-31  16.98  24.01  24.16  16.08  16.50  16.11 161.74 136.64\n",
       "1981-04-30  11.00  19.80  19.94  10.30  13.20  10.74  47.23  43.04\n",
       "1981-05-31  10.12  16.72  15.86   9.75  10.13   9.26  88.62  76.18\n",
       "1981-06-30  20.76  16.05  15.49  12.04  12.21  10.90  61.35  57.34"
      ]
     },
     "execution_count": 7,
     "metadata": {},
     "output_type": "execute_result"
    },
    {
     "data": {
      "text/plain": [
       "           US.Wjs US.Mpj US.Mpg US.Seg US.Sen US.Ses US.Vcm US.Vcp\n",
       "1981-01-31  2.075  1.340  1.515  3.615  3.535  3.620 -2.020 -0.890\n",
       "1981-02-28  4.055  3.510  3.665  6.205  6.010  6.320 -2.580 -1.385\n",
       "1981-03-31  5.245  4.555  4.675  8.080  7.910  8.095 -2.415 -1.115\n",
       "1981-04-30 12.065 11.015 11.170 15.190 14.915 15.240  3.945  5.420\n",
       "1981-05-31 14.975 13.525 13.695 18.585 18.305 18.615  6.125  7.640\n",
       "1981-06-30 21.625 20.955 21.180 24.770 24.505 24.850 13.450 14.710"
      ]
     },
     "execution_count": 7,
     "metadata": {},
     "output_type": "execute_result"
    }
   ],
   "source": [
    "fpath <- '/home/greg/sftp/eddyflux/Ancillary_met_data/PRISM_monthly/'\n",
    "fname_ppt <- 'PRISM_Monthly_ppt_1981_2014.csv'\n",
    "fname_tmean <-'PRISM_Monthly_tmean_1981_2014.csv'\n",
    "#header <- read.csv(fname, skip=3, nrows=1)\n",
    "df_ppt <- read.csv(paste(fpath, fname_ppt, sep=''))\n",
    "df_tmean <- read.csv(paste(fpath, fname_tmean, sep=''))\n",
    "df_ppt <- xts( df_ppt[,2:ncol(df_ppt)], as.Date(df_ppt$date))\n",
    "df_tmean <- xts( df_tmean[,2:ncol(df_tmean)], as.Date(df_tmean$date))\n",
    "head(df_ppt)\n",
    "head(df_tmean)"
   ]
  },
  {
   "cell_type": "code",
   "execution_count": 8,
   "metadata": {
    "collapsed": false
   },
   "outputs": [
    {
     "data": {
      "text/html": [
       "<table>\n",
       "<thead><tr><th></th><th scope=col>sitecode</th><th scope=col>lat</th><th scope=col>lon</th></tr></thead>\n",
       "<tbody>\n",
       "\t<tr><th scope=row>1</th><td>US-Wjs</td><td>34.42549</td><td>-105.8615</td></tr>\n",
       "\t<tr><th scope=row>2</th><td>US-Mpj</td><td>34.43845</td><td>-106.2377</td></tr>\n",
       "\t<tr><th scope=row>3</th><td>US-Mpg</td><td>34.44682</td><td>-106.2134</td></tr>\n",
       "\t<tr><th scope=row>4</th><td>US-Seg</td><td>34.36233</td><td>-106.7019</td></tr>\n",
       "\t<tr><th scope=row>5</th><td>US-Sen</td><td>34.35802</td><td>-106.6799</td></tr>\n",
       "\t<tr><th scope=row>6</th><td>US-Ses</td><td>34.33494</td><td>-106.7442</td></tr>\n",
       "</tbody>\n",
       "</table>\n"
      ],
      "text/latex": [
       "\\begin{tabular}{r|lll}\n",
       "  & sitecode & lat & lon\\\\\n",
       "\\hline\n",
       "\t1 & US-Wjs & 34.42549 & -105.8615\\\\\n",
       "\t2 & US-Mpj & 34.43845 & -106.2377\\\\\n",
       "\t3 & US-Mpg & 34.44682 & -106.2134\\\\\n",
       "\t4 & US-Seg & 34.36233 & -106.7019\\\\\n",
       "\t5 & US-Sen & 34.35802 & -106.6799\\\\\n",
       "\t6 & US-Ses & 34.33494 & -106.7442\\\\\n",
       "\\end{tabular}\n"
      ],
      "text/plain": [
       "  sitecode      lat       lon\n",
       "1   US-Wjs 34.42549 -105.8615\n",
       "2   US-Mpj 34.43845 -106.2377\n",
       "3   US-Mpg 34.44682 -106.2134\n",
       "4   US-Seg 34.36233 -106.7019\n",
       "5   US-Sen 34.35802 -106.6799\n",
       "6   US-Ses 34.33494 -106.7442"
      ]
     },
     "execution_count": 8,
     "metadata": {},
     "output_type": "execute_result"
    }
   ],
   "source": [
    "# Get site coordinates\n",
    "coords <- read.csv('../site_coords.txt')\n",
    "head(coords)"
   ]
  },
  {
   "cell_type": "markdown",
   "metadata": {},
   "source": [
    "## Calculate SPEI using thornwaite PET"
   ]
  },
  {
   "cell_type": "code",
   "execution_count": 9,
   "metadata": {
    "collapsed": false
   },
   "outputs": [
    {
     "name": "stderr",
     "output_type": "stream",
     "text": [
      "Warning message:\n",
      ": Incompatible methods (\"Ops.xts\", \"Ops.ts\") for \"-\""
     ]
    },
    {
     "name": "stdout",
     "output_type": "stream",
     "text": [
      "[1] 276\n",
      "[1] 276\n"
     ]
    },
    {
     "name": "stderr",
     "output_type": "stream",
     "text": [
      "Warning message:\n",
      ": Incompatible methods (\"Ops.xts\", \"Ops.ts\") for \"-\""
     ]
    },
    {
     "name": "stdout",
     "output_type": "stream",
     "text": [
      "[1] 276\n",
      "[1] 276\n"
     ]
    },
    {
     "name": "stderr",
     "output_type": "stream",
     "text": [
      "Warning message:\n",
      ": Incompatible methods (\"Ops.xts\", \"Ops.ts\") for \"-\""
     ]
    },
    {
     "name": "stdout",
     "output_type": "stream",
     "text": [
      "[1] 276\n",
      "[1] 276\n"
     ]
    },
    {
     "name": "stderr",
     "output_type": "stream",
     "text": [
      "Warning message:\n",
      ": Incompatible methods (\"Ops.xts\", \"Ops.ts\") for \"-\""
     ]
    },
    {
     "name": "stdout",
     "output_type": "stream",
     "text": [
      "[1] 276\n",
      "[1] 276\n"
     ]
    },
    {
     "name": "stderr",
     "output_type": "stream",
     "text": [
      "Warning message:\n",
      ": Incompatible methods (\"Ops.xts\", \"Ops.ts\") for \"-\""
     ]
    },
    {
     "name": "stdout",
     "output_type": "stream",
     "text": [
      "[1] 276\n",
      "[1] 276\n"
     ]
    },
    {
     "name": "stderr",
     "output_type": "stream",
     "text": [
      "Warning message:\n",
      ": Incompatible methods (\"Ops.xts\", \"Ops.ts\") for \"-\""
     ]
    },
    {
     "name": "stdout",
     "output_type": "stream",
     "text": [
      "[1] 276\n",
      "[1] 276\n"
     ]
    }
   ],
   "source": [
    "plot_spei <- FALSE\n",
    "int_steps1 <- seq(1, 24)\n",
    "\n",
    "for (i in 1:length(sitenames)){\n",
    "    # Get site name and latitude\n",
    "    sitename1 <- paste('US-', sitenames[[i]], sep='')\n",
    "    lat <- coords[coords$sitecode==sitename1, 2]\n",
    "    sitename2 <- paste('US.', sitenames[[i]], sep='') # Format sitename for PRISM datasets\n",
    "    # Calculate pet and climatic water diff with thornthwaite\n",
    "    pet <- thornthwaite(df_tmean[,sitename2], lat, na.rm=T)\n",
    "    cwdiff <- df_ppt[,sitename2] - pet\n",
    "    for (j in 1:length(int_steps1)) {\n",
    "        int_per <- int_steps1[j]\n",
    "        spei_int <- spei(ts(cwdiff, frequency=12, start=c(1981, 1)), int_per, na.rm=TRUE)\n",
    "        if (plot_spei){\n",
    "            plot(spei_int)\n",
    "        }\n",
    "        spei_int <- xts(as.vector(spei_int$fitted),  index(df_tmean))\n",
    "        colnames(spei_int) <- paste('SPEI_monthly_', as.character(int_per), sep='')\n",
    "        if (j==1){\n",
    "            spei_site <- spei_int\n",
    "        } else {\n",
    "            spei_site <- cbind(spei_site, spei_int)\n",
    "        }\n",
    "    }\n",
    "    # There may be both infinite and NA values in the output\n",
    "    # Convert -Inf to NA\n",
    "    print(sum(is.na(spei_site)))\n",
    "    spei_site[!is.finite(spei_site)] <- NA\n",
    "    print(sum(is.na(spei_site)))\n",
    "    # Actually there are no NA values - ignore this\n",
    "    \n",
    "    # Interpolate over NA values\n",
    "    #spei_site_interp <- na.approx(spei_site)\n",
    "    \n",
    "    # Write files\n",
    "    outfile <- paste('../processed_data/spei/SPEI_PRISM_monthly_', sitename1,\n",
    "                     '.csv', sep='')\n",
    "    write.zoo(spei_site, file = outfile,\n",
    "              index.name = \"Date\", sep=',', row.names = FALSE, col.names=TRUE)\n",
    "    \n",
    "    #outfile <- paste('../processed_data/spei/SPEI_PRISM_monthly_', sitename1,\n",
    "    #                 '_nainterp.csv', sep='')\n",
    "    #write.zoo(spei_site_interp, file = outfile,\n",
    "    #          index.name = \"Date\", sep=',', row.names = FALSE, col.names=TRUE)\n",
    "}"
   ]
  }
 ],
 "metadata": {
  "kernelspec": {
   "display_name": "R",
   "language": "R",
   "name": "ir"
  },
  "language_info": {
   "codemirror_mode": "r",
   "file_extension": ".r",
   "mimetype": "text/x-r-source",
   "name": "R",
   "pygments_lexer": "r",
   "version": "3.2.3"
  }
 },
 "nbformat": 4,
 "nbformat_minor": 0
}
